{
 "cells": [
  {
   "cell_type": "code",
   "execution_count": 52,
   "metadata": {},
   "outputs": [],
   "source": [
    "import torch\n",
    "import auraloss\n",
    "import numpy as np\n",
    "from tqdm import tqdm\n",
    "import pyloudnorm as pyln\n",
    "\n",
    "from dataset.dataset_ram import LA2A_Dataset\n",
    "#from models.lstm_mlp_input import LSTMModelID\n",
    "#from models.lstm_mlp import LSTMModel\n",
    "from models.squeeze_lstm import Squeeze_LSTM\n",
    "\n",
    "torch.backends.cudnn.benchmark = True\n",
    "\n",
    "torch.set_float32_matmul_precision('highest')"
   ]
  },
  {
   "cell_type": "code",
   "execution_count": 53,
   "metadata": {},
   "outputs": [],
   "source": [
    "location = torch.device('cpu')"
   ]
  },
  {
   "cell_type": "code",
   "execution_count": 54,
   "metadata": {},
   "outputs": [],
   "source": [
    "config = {\n",
    "    'dataset_dir': \"path_to_dataset\",\n",
    "    'train_data_len_sec': 10,\n",
    "    'batch_size': 50,\n",
    "    'learning_rate': 1e-3,\n",
    "    'num_workers': 10, \n",
    "}\n",
    "\n",
    "model_config = {\n",
    "    'input_size':  1,\n",
    "    'output_size': 1, \n",
    "    'hidden_size': 64,\n",
    "    'train_loss': 'l1+stft'\n",
    "}"
   ]
  },
  {
   "cell_type": "code",
   "execution_count": 55,
   "metadata": {},
   "outputs": [
    {
     "data": {
      "text/plain": [
       "Squeeze_LSTM(\n",
       "  (l1): L1Loss()\n",
       "  (esr): ESRLoss()\n",
       "  (stft): STFTLoss(\n",
       "    (spectralconv): SpectralConvergenceLoss()\n",
       "    (logstft): STFTMagnitudeLoss(\n",
       "      (distance): L1Loss()\n",
       "    )\n",
       "    (linstft): STFTMagnitudeLoss(\n",
       "      (distance): L1Loss()\n",
       "    )\n",
       "  )\n",
       "  (mel_stft): MelSTFTLoss(\n",
       "    (spectralconv): SpectralConvergenceLoss()\n",
       "    (logstft): STFTMagnitudeLoss(\n",
       "      (distance): L1Loss()\n",
       "    )\n",
       "    (linstft): STFTMagnitudeLoss(\n",
       "      (distance): L1Loss()\n",
       "    )\n",
       "  )\n",
       "  (lstm): LSTM(3, 64)\n",
       "  (linear): Linear(in_features=64, out_features=1, bias=True)\n",
       ")"
      ]
     },
     "execution_count": 55,
     "metadata": {},
     "output_type": "execute_result"
    }
   ],
   "source": [
    "model = Squeeze_LSTM(input_s=model_config['input_size'], \n",
    "                  output_s=model_config['output_size'], \n",
    "                  hidden_size=model_config['hidden_size'],\n",
    "                  train_loss=model_config['train_loss']).load_from_checkpoint(checkpoint_path='/home/abalykin/git/neural_la/artefacts/squeeze_lstm_v5/lstm_mlp_input-epoch=80-val_loss=1.78.ckpt', map_location=location)\n",
    "model.eval()"
   ]
  },
  {
   "cell_type": "code",
   "execution_count": 56,
   "metadata": {},
   "outputs": [],
   "source": [
    "l1 = torch.nn.L1Loss()\n",
    "esr = auraloss.time.ESRLoss()\n",
    "stft = auraloss.freq.STFTLoss()\n",
    "mel_stft = auraloss.freq.MelSTFTLoss(sample_rate=44100)\n",
    "meter = pyln.Meter(rate=44100)"
   ]
  },
  {
   "cell_type": "code",
   "execution_count": 57,
   "metadata": {},
   "outputs": [
    {
     "name": "stderr",
     "output_type": "stream",
     "text": [
      "100%|██████████| 3/3 [00:03<00:00,  1.25s/it]\n"
     ]
    }
   ],
   "source": [
    "test_dataset = LA2A_Dataset(config['dataset_dir'],  config['train_data_len_sec'],  mode=\"test\")"
   ]
  },
  {
   "cell_type": "code",
   "execution_count": 58,
   "metadata": {},
   "outputs": [],
   "source": [
    "test_dataloader = torch.utils.data.DataLoader(test_dataset, shuffle=True,\n",
    "                                                batch_size=1,\n",
    "                                                num_workers=16,\n",
    "                                                pin_memory=True)"
   ]
  },
  {
   "cell_type": "code",
   "execution_count": 59,
   "metadata": {},
   "outputs": [],
   "source": [
    "l1_rec = []\n",
    "stft_rec = []\n",
    "lufs_rec = []"
   ]
  },
  {
   "cell_type": "code",
   "execution_count": 60,
   "metadata": {},
   "outputs": [
    {
     "name": "stderr",
     "output_type": "stream",
     "text": [
      "273it [00:09, 29.29it/s]\n"
     ]
    }
   ],
   "source": [
    "with torch.no_grad():\n",
    "    for batch_index, batch in tqdm(enumerate(test_dataloader)):\n",
    "        input, output, params = batch\n",
    "        pred = model(input, params)\n",
    "        output=output[:,None,:]\n",
    "        l1_loss = l1(pred, output).cpu().detach().numpy().item()\n",
    "        stft_loss = stft(pred, output).cpu().detach().numpy().item()\n",
    "        target_lufs = meter.integrated_loudness(pred.squeeze().squeeze().cpu().numpy())\n",
    "        output_lufs = meter.integrated_loudness(output.squeeze().squeeze().cpu().numpy())\n",
    "        l1_lufs = np.abs(output_lufs - target_lufs)\n",
    "        l1_rec.append(l1_loss)\n",
    "        stft_rec.append(stft_loss)\n",
    "        if not np.isnan(l1_lufs):\n",
    "            lufs_rec.append(l1_lufs)"
   ]
  },
  {
   "cell_type": "code",
   "execution_count": 61,
   "metadata": {},
   "outputs": [],
   "source": [
    "l1_rec = np.array(l1_rec) \n",
    "stft_rec = np.array(stft_rec) \n",
    "lufs_rec = np.array(lufs_rec) \n",
    "\n",
    "l1_mean = l1_rec.mean()\n",
    "stft_mean = stft_rec.mean()\n",
    "lufs_mean = lufs_rec.mean()"
   ]
  },
  {
   "cell_type": "code",
   "execution_count": 62,
   "metadata": {},
   "outputs": [
    {
     "data": {
      "text/plain": [
       "0.05864832728534882"
      ]
     },
     "execution_count": 62,
     "metadata": {},
     "output_type": "execute_result"
    }
   ],
   "source": [
    "l1_mean"
   ]
  },
  {
   "cell_type": "code",
   "execution_count": 63,
   "metadata": {},
   "outputs": [
    {
     "data": {
      "text/plain": [
       "1.8061781885859731"
      ]
     },
     "execution_count": 63,
     "metadata": {},
     "output_type": "execute_result"
    }
   ],
   "source": [
    "stft_mean"
   ]
  },
  {
   "cell_type": "code",
   "execution_count": 64,
   "metadata": {},
   "outputs": [
    {
     "data": {
      "text/plain": [
       "5.23028657095154"
      ]
     },
     "execution_count": 64,
     "metadata": {},
     "output_type": "execute_result"
    }
   ],
   "source": [
    "lufs_mean"
   ]
  }
 ],
 "metadata": {
  "kernelspec": {
   "display_name": "pt_gpu",
   "language": "python",
   "name": "python3"
  },
  "language_info": {
   "codemirror_mode": {
    "name": "ipython",
    "version": 3
   },
   "file_extension": ".py",
   "mimetype": "text/x-python",
   "name": "python",
   "nbconvert_exporter": "python",
   "pygments_lexer": "ipython3",
   "version": "3.9.16"
  },
  "orig_nbformat": 4
 },
 "nbformat": 4,
 "nbformat_minor": 2
}
